{
 "cells": [
  {
   "cell_type": "code",
   "execution_count": 1,
   "id": "dcf43b9c",
   "metadata": {},
   "outputs": [
    {
     "name": "stdout",
     "output_type": "stream",
     "text": [
      "saisir une valeur 100,150,180\n",
      "[18, 22, 24]\n"
     ]
    }
   ],
   "source": [
    "a=input(\"saisir une valeur \")\n",
    "a=a.split(\",\")\n",
    "C=50\n",
    "H=30\n",
    "my_list=[]\n",
    "import math\n",
    "for D in range(len(a)):\n",
    "    D=int(a[D])\n",
    "    Q= ((2*C*D)/H)**(0.5)\n",
    "    Q=int(Q)\n",
    "    my_list.append(Q)\n",
    "print(my_list)   \n",
    "\n",
    "\n"
   ]
  },
  {
   "cell_type": "code",
   "execution_count": null,
   "id": "cb192f31",
   "metadata": {},
   "outputs": [],
   "source": []
  }
 ],
 "metadata": {
  "kernelspec": {
   "display_name": "Python 3 (ipykernel)",
   "language": "python",
   "name": "python3"
  },
  "language_info": {
   "codemirror_mode": {
    "name": "ipython",
    "version": 3
   },
   "file_extension": ".py",
   "mimetype": "text/x-python",
   "name": "python",
   "nbconvert_exporter": "python",
   "pygments_lexer": "ipython3",
   "version": "3.9.7"
  }
 },
 "nbformat": 4,
 "nbformat_minor": 5
}
