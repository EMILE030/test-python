{
 "cells": [
  {
   "cell_type": "code",
   "execution_count": 2,
   "id": "045944ea",
   "metadata": {},
   "outputs": [
    {
     "name": "stdout",
     "output_type": "stream",
     "text": [
      "entre votre chaine kitten\n",
      "entre une valeur 1\n",
      "ktten\n"
     ]
    }
   ],
   "source": [
    "chaine=list(input(\"entre votre chaine \"))\n",
    "valeur=int(input(\"entre une valeur \"))\n",
    "del chaine[valeur]\n",
    "new_valeur=\"\"\n",
    "new_valeur=new_valeur.join(chaine)\n",
    "print(new_valeur)"
   ]
  },
  {
   "cell_type": "code",
   "execution_count": null,
   "id": "ad725bab",
   "metadata": {},
   "outputs": [],
   "source": []
  }
 ],
 "metadata": {
  "kernelspec": {
   "display_name": "Python 3 (ipykernel)",
   "language": "python",
   "name": "python3"
  },
  "language_info": {
   "codemirror_mode": {
    "name": "ipython",
    "version": 3
   },
   "file_extension": ".py",
   "mimetype": "text/x-python",
   "name": "python",
   "nbconvert_exporter": "python",
   "pygments_lexer": "ipython3",
   "version": "3.9.7"
  }
 },
 "nbformat": 4,
 "nbformat_minor": 5
}
